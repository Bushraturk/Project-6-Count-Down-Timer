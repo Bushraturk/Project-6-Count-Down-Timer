{
  "nbformat": 4,
  "nbformat_minor": 0,
  "metadata": {
    "colab": {
      "provenance": [],
      "authorship_tag": "ABX9TyN//X7t3Ycs28AIkyKGUa57",
      "include_colab_link": true
    },
    "kernelspec": {
      "name": "python3",
      "display_name": "Python 3"
    },
    "language_info": {
      "name": "python"
    }
  },
  "cells": [
    {
      "cell_type": "markdown",
      "metadata": {
        "id": "view-in-github",
        "colab_type": "text"
      },
      "source": [
        "<a href=\"https://colab.research.google.com/github/Bushraturk/Project-6-Count-Down-Timer/blob/main/Count_Down_Timer.ipynb\" target=\"_parent\"><img src=\"https://colab.research.google.com/assets/colab-badge.svg\" alt=\"Open In Colab\"/></a>"
      ]
    },
    {
      "cell_type": "markdown",
      "source": [],
      "metadata": {
        "id": "vmyhd6v9eaO6"
      }
    },
    {
      "cell_type": "markdown",
      "source": [
        "### Project 6 : Count Down Timer"
      ],
      "metadata": {
        "id": "iD0R6E7AXRVB"
      }
    },
    {
      "cell_type": "code",
      "source": [],
      "metadata": {
        "id": "-uSx6SPEeZwj"
      },
      "execution_count": null,
      "outputs": []
    },
    {
      "cell_type": "code",
      "source": [
        "import time\n",
        "import os  # To clear the screen\n",
        "\n",
        "def countdown_timer(seconds):\n",
        "    while seconds > 0:\n",
        "        mins, sec = divmod(seconds, 60)  # Convert seconds to MM:SS format\n",
        "        time_format = '{:02d}:{:02d}'.format(mins, sec)\n",
        "\n",
        "        os.system(\"cls\" if os.name == \"nt\" else \"clear\")  # Clear screen for Windows/Mac/Linux\n",
        "        print(time_format)  # Print time clearly\n",
        "\n",
        "        time.sleep(1)  # Delay 1 second\n",
        "        seconds -= 1  # Reduce time\n",
        "\n",
        "    # When timer reaches 0\n",
        "    os.system(\"cls\" if os.name == \"nt\" else \"clear\")  # Clear screen before showing final message\n",
        "    print(\"00:00 \\nTime's up! ⏰\")\n",
        "\n",
        "# User input\n",
        "total_seconds = int(input(\"Enter time in seconds for countdown: \"))\n",
        "countdown_timer(total_seconds)\n"
      ],
      "metadata": {
        "colab": {
          "base_uri": "https://localhost:8080/"
        },
        "id": "5pmW85cIg6lf",
        "outputId": "b6ac25c0-d72e-47dd-835e-a0fa357a434e"
      },
      "execution_count": null,
      "outputs": [
        {
          "output_type": "stream",
          "name": "stdout",
          "text": [
            "Enter time in seconds for countdown: 15\n",
            "00:15\n",
            "00:14\n",
            "00:13\n",
            "00:12\n",
            "00:11\n",
            "00:10\n",
            "00:09\n",
            "00:08\n",
            "00:07\n",
            "00:06\n",
            "00:05\n",
            "00:04\n",
            "00:03\n",
            "00:02\n",
            "00:01\n",
            "00:00 \n",
            "Time's up! ⏰\n"
          ]
        }
      ]
    }
  ]
}